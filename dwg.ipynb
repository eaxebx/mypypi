{
    "metadata": {
        "kernelspec": {
            "name": "SQL",
            "display_name": "SQL",
            "language": "sql"
        },
        "language_info": {
            "name": "sql",
            "version": ""
        }
    },
    "nbformat_minor": 2,
    "nbformat": 4,
    "cells": [
        {
            "cell_type": "markdown",
            "source": [
                "# 测试用\r\n",
                "## 先删除所有新建的表\r\n",
                "## 删除TYPE必须先删除PROCEFURE"
            ],
            "metadata": {
                "azdata_cell_guid": "4049caac-f77b-4280-a774-deae5f1d4040"
            },
            "attachments": {}
        },
        {
            "cell_type": "code",
            "source": [
                "DROP TABLE IF EXISTS DwgItem\r\n",
                "DROP TABLE IF EXISTS DwgIpart\r\n",
                "DROP PROCEDURE IF EXISTS pyproc\r\n",
                "DROP TYPE IF EXISTS dwgtype\r\n",
                ""
            ],
            "metadata": {
                "azdata_cell_guid": "7b8c6c22-b667-4ab4-b394-b1799938d81f",
                "language": "sql"
            },
            "outputs": [
                {
                    "output_type": "display_data",
                    "data": {
                        "text/html": "Commands completed successfully."
                    },
                    "metadata": {}
                },
                {
                    "output_type": "display_data",
                    "data": {
                        "text/html": "Total execution time: 00:00:00.001"
                    },
                    "metadata": {}
                }
            ],
            "execution_count": 5
        },
        {
            "cell_type": "markdown",
            "source": [
                "# 新建两个表\r\n",
                "## DwgItem 用于 一对多对照表\r\n",
                "## DwgIpart 用于 Ipart"
            ],
            "metadata": {
                "azdata_cell_guid": "efd9de17-59f4-4eca-b115-650fd4e92635"
            },
            "attachments": {}
        },
        {
            "cell_type": "code",
            "source": [
                "CREATE TABLE DwgItem\r\n",
                "(\r\n",
                "    RefItemCode nvarchar(50) NULL,\r\n",
                "    ItemCode nvarchar(50) NULL\r\n",
                ")"
            ],
            "metadata": {
                "azdata_cell_guid": "d5e7217c-85da-4054-bbcc-b7ca247915aa",
                "language": "sql"
            },
            "outputs": [
                {
                    "output_type": "display_data",
                    "data": {
                        "text/html": "Commands completed successfully."
                    },
                    "metadata": {}
                },
                {
                    "output_type": "display_data",
                    "data": {
                        "text/html": "Total execution time: 00:00:00.015"
                    },
                    "metadata": {}
                }
            ],
            "execution_count": 6
        },
        {
            "cell_type": "code",
            "source": [
                "CREATE TABLE DwgIpart\r\n",
                "(\r\n",
                "    Ipart nvarchar(50) NULL,\r\n",
                "    ItemCode nvarchar(50) NULL\r\n",
                ")"
            ],
            "metadata": {
                "azdata_cell_guid": "c2aec513-bff8-488f-a6a3-195b9fe1405a",
                "language": "sql"
            },
            "outputs": [
                {
                    "output_type": "display_data",
                    "data": {
                        "text/html": "Commands completed successfully."
                    },
                    "metadata": {}
                },
                {
                    "output_type": "display_data",
                    "data": {
                        "text/html": "Total execution time: 00:00:00.015"
                    },
                    "metadata": {}
                }
            ],
            "execution_count": 7
        },
        {
            "cell_type": "markdown",
            "source": [
                "# 表值类型\n",
                "\n",
                "## 用于存储过程"
            ],
            "metadata": {
                "azdata_cell_guid": "20942f5f-212b-4748-b8cd-3e32311f0e83"
            },
            "attachments": {}
        },
        {
            "cell_type": "code",
            "source": [
                "CREATE TYPE dwgtype AS TABLE (\r\n",
                "    Ipart nvarchar(50) NULL,\r\n",
                "    ItemCode nvarchar(50) NULL,\r\n",
                "    [Name] nvarchar(200) NULL,\r\n",
                "    [Path] nvarchar(200) NULL,\r\n",
                "    RefCode nvarchar(4000) NULL\r\n",
                ")\r\n",
                ""
            ],
            "metadata": {
                "language": "sql",
                "azdata_cell_guid": "15f7712a-917b-49b3-adbf-8b89202ff83a"
            },
            "outputs": [
                {
                    "output_type": "display_data",
                    "data": {
                        "text/html": "Commands completed successfully."
                    },
                    "metadata": {}
                },
                {
                    "output_type": "display_data",
                    "data": {
                        "text/html": "Total execution time: 00:00:00.001"
                    },
                    "metadata": {}
                }
            ],
            "execution_count": 8
        },
        {
            "cell_type": "markdown",
            "source": [
                "# 存储过程\n",
                "\n",
                "## 更新drawing"
            ],
            "metadata": {
                "language": "sql",
                "azdata_cell_guid": "bb22776e-4d1f-40a2-80ea-f271bda2361a"
            },
            "attachments": {}
        },
        {
            "cell_type": "code",
            "source": [
                "CREATE OR ALTER PROCEDURE pyproc\r\n",
                "    @tvp dwgtype READONLY\r\n",
                "WITH\r\n",
                "    ENCRYPTION\r\n",
                "AS\r\n",
                "BEGIN\r\n",
                "    SET NOCOUNT ON\r\n",
                "    BEGIN TRANSACTION\r\n",
                "\r\n",
                "    TRUNCATE TABLE drawing\r\n",
                "    INSERT INTO drawing\r\n",
                "    SELECT *\r\n",
                "    FROM @tvp\r\n",
                "\r\n",
                "    UPDATE t1 SET RefCode=t2.RefItemCode FROM drawing t1 INNER JOIN (\r\n",
                "SELECT\r\n",
                "            ItemCode,\r\n",
                "            (\r\n",
                "\t\tSELECT RefItemCode+','\r\n",
                "            FROM DwgItem\r\n",
                "            WHERE ItemCode=t1.ItemCode\r\n",
                "            FOR XML PATH('')\r\n",
                "\t)AS RefItemCode\r\n",
                "        FROM DwgItem t1\r\n",
                "        GROUP BY ItemCode ) AS t2 ON t1.ItemCode=t2.ItemCode\r\n",
                "\r\n",
                "    UPDATE t1 SET RefCode=t2.RefItemCode FROM drawing t1 INNER JOIN (\r\n",
                "SELECT\r\n",
                "            Ipart,\r\n",
                "            (\r\n",
                "\tSELECT ItemCode+','\r\n",
                "            FROM DwgIpart\r\n",
                "            WHERE Ipart=t1.Ipart\r\n",
                "            FOR XML PATH('')\r\n",
                "\t)AS RefItemCode\r\n",
                "        FROM DwgIpart t1\r\n",
                "        GROUP BY Ipart ) AS t2 ON t1.Ipart=t2.Ipart\r\n",
                "\r\n",
                "    COMMIT TRANSACTION\r\n",
                "END\r\n",
                ""
            ],
            "metadata": {
                "azdata_cell_guid": "c65fd375-7b4e-4dd0-a685-67ca6d6e05ad",
                "language": "sql"
            },
            "outputs": [
                {
                    "output_type": "display_data",
                    "data": {
                        "text/html": "Commands completed successfully."
                    },
                    "metadata": {}
                },
                {
                    "output_type": "display_data",
                    "data": {
                        "text/html": "Total execution time: 00:00:00.003"
                    },
                    "metadata": {}
                }
            ],
            "execution_count": 12
        }
    ]
}