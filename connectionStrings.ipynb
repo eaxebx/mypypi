{
 "cells": [
  {
   "attachments": {},
   "cell_type": "markdown",
   "metadata": {},
   "source": [
    "Excel defaults to a read-only connection,\n",
    "so if you want to update the spreadsheet include ReadOnly=0 in your connection string:"
   ]
  },
  {
   "cell_type": "code",
   "execution_count": null,
   "metadata": {},
   "outputs": [],
   "source": [
    "excel = (\n",
    "    'DRIVER={Microsoft Excel Driver (*.xls, *.xlsx, *.xlsm, *.xlsb)};'\n",
    "    'DBQ=../database/test.xlsx;'\n",
    "    'ReadOnly=0'\n",
    ")"
   ]
  },
  {
   "attachments": {},
   "cell_type": "markdown",
   "metadata": {},
   "source": [
    "The Microsoft Excel driver does not support transactions,\n",
    "so you must set autocommit to True on the connection or else you will get an error, e.g.:"
   ]
  },
  {
   "cell_type": "code",
   "execution_count": null,
   "metadata": {},
   "outputs": [],
   "source": [
    "import pyodbc\n",
    "con = pyodbc.connect(excel, autocommit=True)"
   ]
  },
  {
   "cell_type": "code",
   "execution_count": null,
   "metadata": {},
   "outputs": [],
   "source": [
    "access = (\n",
    "    'DRIVER={Microsoft Access Driver (*.mdb, *.accdb)};'\n",
    "    'DBQ=../database/test.accdb;'\n",
    ")"
   ]
  },
  {
   "cell_type": "code",
   "execution_count": null,
   "metadata": {},
   "outputs": [],
   "source": [
    "sqlserver = (\n",
    "    'DRIVER={ODBC Driver 17 for SQL Server};'\n",
    "    'SERVER=example.com;'\n",
    "    'DATABASE=master;'\n",
    "    'UID=sa;'\n",
    "    'PWD=123;'\n",
    ")"
   ]
  },
  {
   "attachments": {},
   "cell_type": "markdown",
   "metadata": {},
   "source": [
    "pyodbc 执行存储过程,默认架构名是dbo"
   ]
  },
  {
   "cell_type": "code",
   "execution_count": null,
   "metadata": {},
   "outputs": [],
   "source": [
    "con = pyodbc.connect(sqlserver)\n",
    "cur = con.cursor()\n",
    "items = [(1, 1001), (2, 1002)]\n",
    "cur.execute('exec pyproc ?', (items,))"
   ]
  },
  {
   "attachments": {},
   "cell_type": "markdown",
   "metadata": {},
   "source": [
    "如果默认架构不是dbo,必须指定架构名"
   ]
  },
  {
   "cell_type": "code",
   "execution_count": null,
   "metadata": {},
   "outputs": [],
   "source": [
    "items = ['tvp_name', 'schema_name', (1, 1001), (2, 1002)]\n",
    "cur.execute('exec pyproc ?', (items,))"
   ]
  }
 ],
 "metadata": {
  "language_info": {
   "name": "python"
  },
  "orig_nbformat": 4
 },
 "nbformat": 4,
 "nbformat_minor": 2
}
