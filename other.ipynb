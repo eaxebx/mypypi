{
    "metadata": {
        "kernelspec": {
            "name": "SQL",
            "display_name": "SQL",
            "language": "sql"
        },
        "language_info": {
            "name": "sql",
            "version": ""
        }
    },
    "nbformat_minor": 2,
    "nbformat": 4,
    "cells": [
        {
            "cell_type": "code",
            "source": [
                "CREATE TYPE calibrationtype AS TABLE (\r\n",
                "    ID int NULL,\r\n",
                "    CalibrationTools nvarchar(50) NULL,\r\n",
                "    StandardValue decimal(9, 4) NULL,\r\n",
                "    Tolerance decimal(9, 4) NULL,\r\n",
                "    MV decimal(9, 4) NULL,\r\n",
                "    Result nvarchar(50) NULL,\r\n",
                "    Comment nvarchar(200) NULL\r\n",
                ")\r\n",
                ""
            ],
            "metadata": {
                "azdata_cell_guid": "5e349bee-ddcb-40f0-ae62-2f548b61c440",
                "language": "sql"
            },
            "outputs": [],
            "execution_count": null
        },
        {
            "cell_type": "code",
            "source": [
                "CREATE TYPE mytype AS TABLE (\r\n",
                "\tID int NULL,\r\n",
                "\tUid nvarchar(100) NULL,\r\n",
                "\tImageHeight float NULL,\r\n",
                "\tProcessNo int NULL,\r\n",
                "\tProcessName nvarchar(100) NULL,\r\n",
                "\tProcessNameCN nvarchar(100) NULL,\r\n",
                "\tTool nvarchar(max) NULL,\r\n",
                "\tDescriptionCN nvarchar(max) NULL,\r\n",
                "\tDescriptionEN nvarchar(max) NULL\r\n",
                ")"
            ],
            "metadata": {
                "language": "sql",
                "azdata_cell_guid": "c6c7f818-bd37-4850-87d7-28e7c8f2deb3"
            },
            "outputs": [],
            "execution_count": null
        },
        {
            "cell_type": "code",
            "source": [
                "CREATE TYPE refitemtype AS TABLE (\r\n",
                "    SubItemCode nvarchar(50) NULL,\r\n",
                "    ItemCode nvarchar(50) NULL\r\n",
                ")\r\n",
                ""
            ],
            "metadata": {
                "language": "sql",
                "azdata_cell_guid": "3b1dd70f-ab97-4f56-93fb-8087ebe20e64"
            },
            "outputs": [],
            "execution_count": null
        },
        {
            "cell_type": "code",
            "source": [
                "CREATE SCHEMA Chains;\r\n",
                "GO\r\n",
                "CREATE TABLE Chains.Sizes\r\n",
                "(\r\n",
                "    ChainID int,\r\n",
                "    width decimal(10,2)\r\n",
                ")\r\n",
                ""
            ],
            "metadata": {
                "language": "sql",
                "azdata_cell_guid": "0b0a154e-a06a-43db-81ea-f5be269d8b82"
            },
            "outputs": [],
            "execution_count": null
        },
        {
            "cell_type": "code",
            "source": [
                "DECLARE @tvp Dwgtype\r\n",
                "INSERT INTO @tvp\r\n",
                "SELECT *\r\n",
                "FROM DRAW\r\n",
                "EXEC pyproc @tvp\r\n",
                ""
            ],
            "metadata": {
                "azdata_cell_guid": "f5f72d81-7daf-4692-9280-53be465f7c0d",
                "language": "sql"
            },
            "outputs": [],
            "execution_count": null
        },
        {
            "cell_type": "code",
            "source": [
                "ALTER TRIGGER connection_limit_trigger\r\n",
                "ON ALL SERVER WITH EXECUTE AS 'login_test'\r\n",
                "FOR LOGON\r\n",
                "AS\r\n",
                "BEGIN\r\n",
                "    INSERT INTO LORENTZ.dbo.AuserLog\r\n",
                "    VALUES(ORIGINAL_LOGIN(), HOST_NAME(), GETDATE())\r\n",
                "END"
            ],
            "metadata": {
                "language": "sql",
                "azdata_cell_guid": "89f1b121-f289-4d5b-97df-40c8543a9d13"
            },
            "outputs": [],
            "execution_count": null
        },
        {
            "cell_type": "code",
            "source": [
                "-- ================================================\r\n",
                "-- Template generated from Template Explorer using:\r\n",
                "-- Create Procedure (New Menu).SQL\r\n",
                "--\r\n",
                "-- Use the Specify Values for Template Parameters \r\n",
                "-- command (Ctrl-Shift-M) to fill in the parameter \r\n",
                "-- values below.\r\n",
                "--\r\n",
                "-- This block of comments will not be included in\r\n",
                "-- the definition of the procedure.\r\n",
                "-- ================================================\r\n",
                "SET ANSI_NULLS ON\r\n",
                "GO\r\n",
                "SET QUOTED_IDENTIFIER ON\r\n",
                "GO\r\n",
                "-- =============================================\r\n",
                "-- Author:\t\t<Author,,Name>\r\n",
                "-- Create date: <Create Date,,>\r\n",
                "-- Description:\t<Description,,>\r\n",
                "-- =============================================\r\n",
                "CREATE PROCEDURE <Procedure_Name, sysname, ProcedureName> \r\n",
                "\t-- Add the parameters for the stored procedure here\r\n",
                "\t<@Param1, sysname, @p1> <Datatype_For_Param1, , int> = <Default_Value_For_Param1, , 0>, \r\n",
                "\t<@Param2, sysname, @p2> <Datatype_For_Param2, , int> = <Default_Value_For_Param2, , 0>\r\n",
                "AS\r\n",
                "BEGIN\r\n",
                "\t-- SET NOCOUNT ON added to prevent extra result sets from\r\n",
                "\t-- interfering with SELECT statements.\r\n",
                "\tSET NOCOUNT ON;\r\n",
                "\r\n",
                "    -- Insert statements for procedure here\r\n",
                "\tSELECT <@Param1, sysname, @p1>, <@Param2, sysname, @p2>\r\n",
                "END\r\n",
                "GO\r\n",
                ""
            ],
            "metadata": {
                "language": "sql",
                "azdata_cell_guid": "4fc3f2ed-266c-4f4d-a3b0-4358680edbc3"
            },
            "outputs": [],
            "execution_count": null
        },
        {
            "cell_type": "code",
            "source": [
                "BEGIN TRANSACTION\r\n",
                "SELECT *\r\n",
                "FROM DRAW WITH(TABLOCKX)\r\n",
                "WAITFOR DELAY '00:00:10'\r\n",
                "COMMIT TRANSACTION\r\n",
                ""
            ],
            "metadata": {
                "language": "sql",
                "azdata_cell_guid": "cdf251a8-9665-475c-ba5e-38bc1c25a347"
            },
            "outputs": [],
            "execution_count": null
        }
    ]
}